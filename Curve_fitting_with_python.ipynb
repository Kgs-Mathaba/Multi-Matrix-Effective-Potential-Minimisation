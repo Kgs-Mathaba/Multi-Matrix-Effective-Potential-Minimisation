{
  "nbformat": 4,
  "nbformat_minor": 0,
  "metadata": {
    "colab": {
      "name": "Curve_fitting_with_python.ipynb",
      "provenance": [],
      "collapsed_sections": [],
      "authorship_tag": "ABX9TyP8Dv2CYqhRj+6GkyoTA0SB",
      "include_colab_link": true
    },
    "kernelspec": {
      "name": "python3",
      "display_name": "Python 3"
    },
    "language_info": {
      "name": "python"
    }
  },
  "cells": [
    {
      "cell_type": "markdown",
      "metadata": {
        "id": "view-in-github",
        "colab_type": "text"
      },
      "source": [
        "<a href=\"https://colab.research.google.com/github/Kgs-Mathaba/Multi-Matrix-Effective-Potential-Minimisation/blob/main/Curve_fitting_with_python.ipynb\" target=\"_parent\"><img src=\"https://colab.research.google.com/assets/colab-badge.svg\" alt=\"Open In Colab\"/></a>"
      ]
    },
    {
      "cell_type": "code",
      "metadata": {
        "colab": {
          "base_uri": "https://localhost:8080/",
          "height": 264
        },
        "id": "3_esU9RFHHNy",
        "outputId": "88d97529-e464-4a3d-dd03-27df79dd05b7"
      },
      "source": [
        "# Plot \"Population\" vs \" Employed\"\n",
        "from pandas import read_csv\n",
        "import matplotlib.pyplot as plt\n",
        "import numpy as np\n",
        "# load dataset\n",
        "url = 'https://raw.githubusercontent.com/jbrownlee/Datasets/master/longley.csv'\n",
        "dataframe = read_csv(url, header=None)\n",
        "data = dataframe.values\n",
        "#input and output variable\n",
        "x, y = data[:,4], data[:, 1]\n",
        "# plot input vs output\n",
        "plt.scatter(x, y)\n",
        "plt.show()"
      ],
      "execution_count": 8,
      "outputs": [
        {
          "output_type": "display_data",
          "data": {
            "text/plain": [
              "<Figure size 432x288 with 1 Axes>"
            ],
            "image/png": "[encoded data removed]"
          },
          "metadata": {
            "needs_background": "light"
          }
        }
      ]
    },
    {
      "cell_type": "code",
      "metadata": {
        "colab": {
          "base_uri": "https://localhost:8080/",
          "height": 206
        },
        "id": "ye7xrrW0TAfO",
        "outputId": "331bf614-e867-4365-ce11-089091172ff2"
      },
      "source": [
        "dataframe.head()"
      ],
      "execution_count": 9,
      "outputs": [
        {
          "output_type": "execute_result",
          "data": {
            "text/plain": [
              "      0        1      2      3        4     5       6\n",
              "0  83.0  234.289  235.6  159.0  107.608  1947  60.323\n",
              "1  88.5  259.426  232.5  145.6  108.632  1948  61.122\n",
              "2  88.2  258.054  368.2  161.6  109.773  1949  60.171\n",
              "3  89.5  284.599  335.1  165.0  110.929  1950  61.187\n",
              "4  96.2  328.975  209.9  309.9  112.075  1951  63.221"
            ],
            "text/html": [
              "\n",
              "  <div id=\"df-e16a3484-88ab-4d01-9aae-30c71e2add43\">\n",
              "    <div class=\"colab-df-container\">\n",
              "      <div>\n",
              "<style scoped>\n",
              "    .dataframe tbody tr th:only-of-type {\n",
              "        vertical-align: middle;\n",
              "    }\n",
              "\n",
              "    .dataframe tbody tr th {\n",
              "        vertical-align: top;\n",
              "    }\n",
              "\n",
              "    .dataframe thead th {\n",
              "        text-align: right;\n",
              "    }\n",
              "</style>\n",
              "<table border=\"1\" class=\"dataframe\">\n",
              "  <thead>\n",
              "    <tr style=\"text-align: right;\">\n",
              "      <th></th>\n",
              "      <th>0</th>\n",
              "      <th>1</th>\n",
              "      <th>2</th>\n",
              "      <th>3</th>\n",
              "      <th>4</th>\n",
              "      <th>5</th>\n",
              "      <th>6</th>\n",
              "    </tr>\n",
              "  </thead>\n",
              "  <tbody>\n",
              "    <tr>\n",
              "      <th>0</th>\n",
              "      <td>83.0</td>\n",
              "      <td>234.289</td>\n",
              "      <td>235.6</td>\n",
              "      <td>159.0</td>\n",
              "      <td>107.608</td>\n",
              "      <td>1947</td>\n",
              "      <td>60.323</td>\n",
              "    </tr>\n",
              "    <tr>\n",
              "      <th>1</th>\n",
              "      <td>88.5</td>\n",
              "      <td>259.426</td>\n",
              "      <td>232.5</td>\n",
              "      <td>145.6</td>\n",
              "      <td>108.632</td>\n",
              "      <td>1948</td>\n",
              "      <td>61.122</td>\n",
              "    </tr>\n",
              "    <tr>\n",
              "      <th>2</th>\n",
              "      <td>88.2</td>\n",
              "      <td>258.054</td>\n",
              "      <td>368.2</td>\n",
              "      <td>161.6</td>\n",
              "      <td>109.773</td>\n",
              "      <td>1949</td>\n",
              "      <td>60.171</td>\n",
              "    </tr>\n",
              "    <tr>\n",
              "      <th>3</th>\n",
              "      <td>89.5</td>\n",
              "      <td>284.599</td>\n",
              "      <td>335.1</td>\n",
              "      <td>165.0</td>\n",
              "      <td>110.929</td>\n",
              "      <td>1950</td>\n",
              "      <td>61.187</td>\n",
              "    </tr>\n",
              "    <tr>\n",
              "      <th>4</th>\n",
              "      <td>96.2</td>\n",
              "      <td>328.975</td>\n",
              "      <td>209.9</td>\n",
              "      <td>309.9</td>\n",
              "      <td>112.075</td>\n",
              "      <td>1951</td>\n",
              "      <td>63.221</td>\n",
              "    </tr>\n",
              "  </tbody>\n",
              "</table>\n",
              "</div>\n",
              "      <button class=\"colab-df-convert\" onclick=\"convertToInteractive('df-e16a3484-88ab-4d01-9aae-30c71e2add43')\"\n",
              "              title=\"Convert this dataframe to an interactive table.\"\n",
              "              style=\"display:none;\">\n",
              "        \n",
              "  <svg xmlns=\"http://www.w3.org/2000/svg\" height=\"24px\"viewBox=\"0 0 24 24\"\n",
              "       width=\"24px\">\n",
              "    <path d=\"M0 0h24v24H0V0z\" fill=\"none\"/>\n",
              "    <path d=\"M18.56 5.44l.94 2.06.94-2.06 2.06-.94-2.06-.94-.94-2.06-.94 2.06-2.06.94zm-11 1L8.5 8.5l.94-2.06 2.06-.94-2.06-.94L8.5 2.5l-.94 2.06-2.06.94zm10 10l.94 2.06.94-2.06 2.06-.94-2.06-.94-.94-2.06-.94 2.06-2.06.94z\"/><path d=\"M17.41 7.96l-1.37-1.37c-.4-.4-.92-.59-1.43-.59-.52 0-1.04.2-1.43.59L10.3 9.45l-7.72 7.72c-.78.78-.78 2.05 0 2.83L4 21.41c.39.39.9.59 1.41.59.51 0 1.02-.2 1.41-.59l7.78-7.78 2.81-2.81c.8-.78.8-2.07 0-2.86zM5.41 20L4 18.59l7.72-7.72 1.47 1.35L5.41 20z\"/>\n",
              "  </svg>\n",
              "      </button>\n",
              "      \n",
              "  <style>\n",
              "    .colab-df-container {\n",
              "      display:flex;\n",
              "      flex-wrap:wrap;\n",
              "      gap: 12px;\n",
              "    }\n",
              "\n",
              "    .colab-df-convert {\n",
              "      background-color: #E8F0FE;\n",
              "      border: none;\n",
              "      border-radius: 50%;\n",
              "      cursor: pointer;\n",
              "      display: none;\n",
              "      fill: #1967D2;\n",
              "      height: 32px;\n",
              "      padding: 0 0 0 0;\n",
              "      width: 32px;\n",
              "    }\n",
              "\n",
              "    .colab-df-convert:hover {\n",
              "      background-color: #E2EBFA;\n",
              "      box-shadow: 0px 1px 2px rgba(60, 64, 67, 0.3), 0px 1px 3px 1px rgba(60, 64, 67, 0.15);\n",
              "      fill: #174EA6;\n",
              "    }\n",
              "\n",
              "    [theme=dark] .colab-df-convert {\n",
              "      background-color: #3B4455;\n",
              "      fill: #D2E3FC;\n",
              "    }\n",
              "\n",
              "    [theme=dark] .colab-df-convert:hover {\n",
              "      background-color: #434B5C;\n",
              "      box-shadow: 0px 1px 3px 1px rgba(0, 0, 0, 0.15);\n",
              "      filter: drop-shadow(0px 1px 2px rgba(0, 0, 0, 0.3));\n",
              "      fill: #FFFFFF;\n",
              "    }\n",
              "  </style>\n",
              "\n",
              "      <script>\n",
              "        const buttonEl =\n",
              "          document.querySelector('#df-e16a3484-88ab-4d01-9aae-30c71e2add43 button.colab-df-convert');\n",
              "        buttonEl.style.display =\n",
              "          google.colab.kernel.accessAllowed ? 'block' : 'none';\n",
              "\n",
              "        async function convertToInteractive(key) {\n",
              "          const element = document.querySelector('#df-e16a3484-88ab-4d01-9aae-30c71e2add43');\n",
              "          const dataTable =\n",
              "            await google.colab.kernel.invokeFunction('convertToInteractive',\n",
              "                                                     [key], {});\n",
              "          if (!dataTable) return;\n",
              "\n",
              "          const docLinkHtml = 'Like what you see? Visit the ' +\n",
              "            '<a target=\"_blank\" href=https://colab.research.google.com/notebooks/data_table.ipynb>data table notebook</a>'\n",
              "            + ' to learn more about interactive tables.';\n",
              "          element.innerHTML = '';\n",
              "          dataTable['output_type'] = 'display_data';\n",
              "          await google.colab.output.renderOutput(dataTable, element);\n",
              "          const docLink = document.createElement('div');\n",
              "          docLink.innerHTML = docLinkHtml;\n",
              "          element.appendChild(docLink);\n",
              "        }\n",
              "      </script>\n",
              "    </div>\n",
              "  </div>\n",
              "  "
            ]
          },
          "metadata": {},
          "execution_count": 9
        }
      ]
    },
    {
      "cell_type": "code",
      "metadata": {
        "id": "rKqLeoXTTL8M"
      },
      "source": [
        "# define true objective function\n",
        "def objective(x, a, b):\n",
        "  return a * x + b"
      ],
      "execution_count": 10,
      "outputs": []
    },
    {
      "cell_type": "code",
      "metadata": {
        "colab": {
          "base_uri": "https://localhost:8080/"
        },
        "id": "pqeBLJKdTdPF",
        "outputId": "2ea4c31c-7069-45e3-cca5-5657dfd3bd31"
      },
      "source": [
        "from scipy.optimize import curve_fit\n",
        "# curve fit\n",
        "popt, _ = curve_fit(objective, x, y)\n",
        "#summarize the parameter values\n",
        "a, b = popt\n",
        "print('y = %.5f * x + %.5f'%(a, b))"
      ],
      "execution_count": 11,
      "outputs": [
        {
          "output_type": "stream",
          "name": "stdout",
          "text": [
            "y = 14.16157 * x + -1275.21005\n"
          ]
        }
      ]
    },
    {
      "cell_type": "code",
      "metadata": {
        "colab": {
          "base_uri": "https://localhost:8080/",
          "height": 283
        },
        "id": "rS2MlcIIUCpt",
        "outputId": "4c450d70-e8df-4b9c-ec32-8ce979913841"
      },
      "source": [
        "#plot input vs output\n",
        "plt.scatter(x, y)"
      ],
      "execution_count": 12,
      "outputs": [
        {
          "output_type": "execute_result",
          "data": {
            "text/plain": [
              "<matplotlib.collections.PathCollection at 0x7ff3911d4350>"
            ]
          },
          "metadata": {},
          "execution_count": 12
        },
        {
          "output_type": "display_data",
          "data": {
            "text/plain": [
              "<Figure size 432x288 with 1 Axes>"
            ],
            "image/png": "[encoded data removed]"
          },
          "metadata": {
            "needs_background": "light"
          }
        }
      ]
    },
    {
      "cell_type": "code",
      "metadata": {
        "colab": {
          "base_uri": "https://localhost:8080/",
          "height": 283
        },
        "id": "Y-aE6v0FUe1k",
        "outputId": "85d199cb-8ccf-4d37-cd09-b878d854c91d"
      },
      "source": [
        "# define a sequence of inputs between the smallest and largest known inputs\n",
        "x_line = np.arange(min(x), max(x), 1)\n",
        "# calculate the output for the range\n",
        "y_line = objective(x_line, a, b)\n",
        "# create a line plot for the mapping function\n",
        "plt.plot(x_line, y_line, '--', color='red')"
      ],
      "execution_count": 13,
      "outputs": [
        {
          "output_type": "execute_result",
          "data": {
            "text/plain": [
              "[<matplotlib.lines.Line2D at 0x7ff391149e50>]"
            ]
          },
          "metadata": {},
          "execution_count": 13
        },
        {
          "output_type": "display_data",
          "data": {
            "text/plain": [
              "<Figure size 432x288 with 1 Axes>"
            ],
            "image/png": "[encoded data removed]"
          },
          "metadata": {
            "needs_background": "light"
          }
        }
      ]
    },
    {
      "cell_type": "code",
      "metadata": {
        "colab": {
          "base_uri": "https://localhost:8080/",
          "height": 264
        },
        "id": "kG29lt5RVc8N",
        "outputId": "f07c1885-ed0e-4cb1-f76c-2be31e7880c0"
      },
      "source": [
        "\n",
        "plt.scatter(x, y)\n",
        "x_line = np.arange(min(x), max(x), 1)\n",
        "y_line = objective(x_line, a, b)\n",
        "plt.plot(x_line, y_line, '--', color='red')\n",
        "plt.show()"
      ],
      "execution_count": 15,
      "outputs": [
        {
          "output_type": "display_data",
          "data": {
            "text/plain": [
              "<Figure size 432x288 with 1 Axes>"
            ],
            "image/png": "[encoded data removed]"
          },
          "metadata": {
            "needs_background": "light"
          }
        }
      ]
    },
    {
      "cell_type": "code",
      "metadata": {
        "id": "hDX7fyfLYTDQ"
      },
      "source": [
        "def objective(x, a, b, c):\n",
        "  return a * x + b * x**2 + c"
      ],
      "execution_count": 16,
      "outputs": []
    },
    {
      "cell_type": "code",
      "metadata": {
        "colab": {
          "base_uri": "https://localhost:8080/"
        },
        "id": "4QxAVtoPYzHQ",
        "outputId": "98756a07-5502-4f13-87b1-67a59f51ab27"
      },
      "source": [
        "# curve fit\n",
        "popt, _ = curve_fit(objective, x, y)\n",
        "#summarize the parameter values\n",
        "a, b, c = popt\n",
        "print('y = %.5f * x + %.5f *x^2 + %5.f'%(a, b, c))"
      ],
      "execution_count": 17,
      "outputs": [
        {
          "output_type": "stream",
          "name": "stdout",
          "text": [
            "y = 61.44766 * x + -0.19970 *x^2 + -4065\n"
          ]
        }
      ]
    },
    {
      "cell_type": "code",
      "metadata": {
        "colab": {
          "base_uri": "https://localhost:8080/",
          "height": 264
        },
        "id": "QD6QHecMZEpM",
        "outputId": "5fcd0fce-591b-4d3e-8d13-6924ac4e4b1f"
      },
      "source": [
        "plt.scatter(x, y)\n",
        "x_line = np.arange(min(x), max(x), 1)\n",
        "y_line = objective(x_line, a, b, c)\n",
        "plt.plot(x_line, y_line, '--', color='red')\n",
        "plt.show()"
      ],
      "execution_count": 18,
      "outputs": [
        {
          "output_type": "display_data",
          "data": {
            "text/plain": [
              "<Figure size 432x288 with 1 Axes>"
            ],
            "image/png": "[encoded data removed]"
          },
          "metadata": {
            "needs_background": "light"
          }
        }
      ]
    },
    {
      "cell_type": "code",
      "metadata": {
        "id": "jIfdVGu6ZKCY"
      },
      "source": [
        "# define the true objective function\n",
        "def objective(x, a, b, c, d, e, f):\n",
        "\treturn (a * x) + (b * x**2) + (c * x**3) + (d * x**4) + (e * x**5) + f"
      ],
      "execution_count": 19,
      "outputs": []
    },
    {
      "cell_type": "code",
      "metadata": {
        "colab": {
          "base_uri": "https://localhost:8080/"
        },
        "id": "6zaCN_LBahtm",
        "outputId": "6f7a71a3-abff-43bb-c6f3-ec00a6e30432"
      },
      "source": [
        "objective(7,1,1,1,0,1,2)"
      ],
      "execution_count": 20,
      "outputs": [
        {
          "output_type": "execute_result",
          "data": {
            "text/plain": [
              "17208"
            ]
          },
          "metadata": {},
          "execution_count": 20
        }
      ]
    },
    {
      "cell_type": "code",
      "metadata": {
        "colab": {
          "base_uri": "https://localhost:8080/",
          "height": 264
        },
        "id": "kvoIDsRAZj1h",
        "outputId": "6b03b457-f9ea-445b-f2f7-acc2cbebf9e7"
      },
      "source": [
        "popt, _ = curve_fit(objective, x, y)\n",
        "# summarize the parameter values\n",
        "a, b, c, d, e, f = popt\n",
        "# plot input vs output\n",
        "plt.scatter(x, y)\n",
        "# define a sequence of inputs between the smallest and largest known inputs\n",
        "x_line = np.arange(min(x), max(x), 1)\n",
        "# calculate the output for the range\n",
        "y_line = objective(x_line, a, b, c, d, e, f)\n",
        "# create a line plot for the mapping function\n",
        "plt.plot(x_line, y_line, '--', color='red')\n",
        "plt.show()"
      ],
      "execution_count": 21,
      "outputs": [
        {
          "output_type": "display_data",
          "data": {
            "text/plain": [
              "<Figure size 432x288 with 1 Axes>"
            ],
            "image/png": "[encoded data removed]"
          },
          "metadata": {
            "needs_background": "light"
          }
        }
      ]
    },
    {
      "cell_type": "code",
      "metadata": {
        "id": "yP_iTK3AZv_Z"
      },
      "source": [
        "# define the true objective function\n",
        "def objective(x, a, b, c, d):\n",
        "\treturn (a * np.sin(b - x)) + (c * x**2 ) + d"
      ],
      "execution_count": 22,
      "outputs": []
    },
    {
      "cell_type": "code",
      "metadata": {
        "colab": {
          "base_uri": "https://localhost:8080/",
          "height": 264
        },
        "id": "WbTq1XB7cTYM",
        "outputId": "07dd5467-314d-4d69-cd22-6ab8ceca0bbb"
      },
      "source": [
        "popt, _ = curve_fit(objective, x, y)\n",
        "# summarize the parameter values\n",
        "a, b, c, d = popt\n",
        "# plot input vs output\n",
        "plt.scatter(x, y)\n",
        "# define a sequence of inputs between the smallest and largest known inputs\n",
        "x_line = np.arange(min(x), max(x), 1)\n",
        "# calculate the output for the range\n",
        "y_line = objective(x_line, a, b, c, d)\n",
        "# create a line plot for the mapping function\n",
        "plt.plot(x_line, y_line, '--', color='red')\n",
        "plt.show()"
      ],
      "execution_count": 23,
      "outputs": [
        {
          "output_type": "display_data",
          "data": {
            "text/plain": [
              "<Figure size 432x288 with 1 Axes>"
            ],
            "image/png": "[encoded data removed]"
          },
          "metadata": {
            "needs_background": "light"
          }
        }
      ]
    },
    {
      "cell_type": "code",
      "metadata": {
        "colab": {
          "base_uri": "https://localhost:8080/"
        },
        "id": "wsdWj4aEcatq",
        "outputId": "c3c31e4a-d0f8-4670-868f-06cfd5d219a1"
      },
      "source": [
        "x.dtype"
      ],
      "execution_count": 24,
      "outputs": [
        {
          "output_type": "execute_result",
          "data": {
            "text/plain": [
              "dtype('float64')"
            ]
          },
          "metadata": {},
          "execution_count": 24
        }
      ]
    },
    {
      "cell_type": "code",
      "metadata": {
        "colab": {
          "base_uri": "https://localhost:8080/"
        },
        "id": "-L7xrdMQdx8U",
        "outputId": "adf9fe3a-c3f0-4f1b-eae8-fd49ee8a0d88"
      },
      "source": [
        "x"
      ],
      "execution_count": 25,
      "outputs": [
        {
          "output_type": "execute_result",
          "data": {
            "text/plain": [
              "array([107.608, 108.632, 109.773, 110.929, 112.075, 113.27 , 115.094,\n",
              "       116.219, 117.388, 118.734, 120.445, 121.95 , 123.366, 125.368,\n",
              "       127.852, 130.081])"
            ]
          },
          "metadata": {},
          "execution_count": 25
        }
      ]
    },
    {
      "cell_type": "code",
      "metadata": {
        "id": "yU5UV1tSdzNr"
      },
      "source": [
        "xdata = np.array([0, 0.0625, 0.25, 0.5625, 1, 1.5625, 2.25, 3.0625, 4.0, \n",
        "              5.0625, 6.25, 7.5625, 9.0, 10.5625, 12.25, 14.0625, 16.0,\n",
        "              18.0625, 20.25, 22.5625, 25.0, 27.5625, 30.25, 33.0625,\n",
        "              36.0, 39.0625, 42.25, 45.5625, 49.0, 52.5625, 56.25])\n",
        "\n",
        "ydata = np.array([2.0, 2.029816, 2.10687, 2.211248, 2.330043, 2.456348, \n",
        "              2.586448, 2.718253, 2.850539, 2.982566, 3.113879, 3.244198,\n",
        "              3.373351, 3.501238, 3.627803, 3.753024, 3.876897, 3.999434,\n",
        "              4.120656, 4.240587, 4.359259, 4.476704, 4.592955, 4.708047,\n",
        "              4.822012, 4.934885, 5.046699, 5.157485, 5.267273, 5.376094, 5.483976])"
      ],
      "execution_count": 26,
      "outputs": []
    },
    {
      "cell_type": "code",
      "source": [
        "len(xdata)==len(ydata)"
      ],
      "metadata": {
        "colab": {
          "base_uri": "https://localhost:8080/"
        },
        "id": "Go9m2vMQBXv2",
        "outputId": "853b9884-306b-461e-f444-bc958d625aa8"
      },
      "execution_count": 27,
      "outputs": [
        {
          "output_type": "execute_result",
          "data": {
            "text/plain": [
              "True"
            ]
          },
          "metadata": {},
          "execution_count": 27
        }
      ]
    },
    {
      "cell_type": "code",
      "metadata": {
        "colab": {
          "base_uri": "https://localhost:8080/",
          "height": 264
        },
        "id": "eKeC-5g6d3hP",
        "outputId": "124a7cd8-6043-40c7-e38f-8bd1c28b5da3"
      },
      "source": [
        "plt.scatter(xdata, ydata )\n",
        "plt.show()"
      ],
      "execution_count": 28,
      "outputs": [
        {
          "output_type": "display_data",
          "data": {
            "text/plain": [
              "<Figure size 432x288 with 1 Axes>"
            ],
            "image/png": "[encoded data removed]"
          },
          "metadata": {
            "needs_background": "light"
          }
        }
      ]
    },
    {
      "cell_type": "code",
      "metadata": {
        "id": "Kt7D2xNRgsIi"
      },
      "source": [
        "def objective_fn(x, a, b):\n",
        "  return a*(x**b) "
      ],
      "execution_count": 29,
      "outputs": []
    },
    {
      "cell_type": "code",
      "metadata": {
        "colab": {
          "base_uri": "https://localhost:8080/",
          "height": 302
        },
        "id": "dpRrM6lAoEWO",
        "outputId": "01284747-6958-453c-92fa-fa6796a95ebe"
      },
      "source": [
        "def func(x, a, b, c):\n",
        "  return a * np.log(b * x) + c\n",
        "popt, _ = curve_fit(func, x, y)\n",
        "a, b, c = popt\n",
        "plt.scatter(x, y)\n",
        "# define a sequence of inputs between the smallest and largest known inputs\n",
        "x_line = np.arange(min(x), max(x), 1)\n",
        "# calculate the output for the range\n",
        "y_line = func(x_line, a, b, c)\n",
        "# create a line plot for the mapping function\n",
        "plt.plot(x_line, y_line, '--', color='red')\n",
        "plt.show()\n"
      ],
      "execution_count": 30,
      "outputs": [
        {
          "output_type": "stream",
          "name": "stderr",
          "text": [
            "/usr/local/lib/python3.7/dist-packages/ipykernel_launcher.py:2: RuntimeWarning: invalid value encountered in log\n",
            "  \n"
          ]
        },
        {
          "output_type": "display_data",
          "data": {
            "text/plain": [
              "<Figure size 432x288 with 1 Axes>"
            ],
            "image/png": "[encoded data removed]"
          },
          "metadata": {
            "needs_background": "light"
          }
        }
      ]
    },
    {
      "cell_type": "code",
      "metadata": {
        "colab": {
          "base_uri": "https://localhost:8080/"
        },
        "id": "vY0Vj_QhiMbA",
        "outputId": "3ba842e9-0952-44f3-e08d-dc95606156d7"
      },
      "source": [
        "objective_fn(3, 1, 2)"
      ],
      "execution_count": 31,
      "outputs": [
        {
          "output_type": "execute_result",
          "data": {
            "text/plain": [
              "9"
            ]
          },
          "metadata": {},
          "execution_count": 31
        }
      ]
    },
    {
      "cell_type": "code",
      "metadata": {
        "id": "JmKe7LWFiQyP"
      },
      "source": [
        "popt, _ = curve_fit(objective_fn, x, y )"
      ],
      "execution_count": 32,
      "outputs": []
    },
    {
      "cell_type": "code",
      "metadata": {
        "colab": {
          "base_uri": "https://localhost:8080/"
        },
        "id": "6n7NMT46iWpz",
        "outputId": "b102fc9b-1585-480a-fd9f-549fa839db0d"
      },
      "source": [
        "print('y = %.5f * (x ^ %.5f ) +  '%(a, b))"
      ],
      "execution_count": 33,
      "outputs": [
        {
          "output_type": "stream",
          "name": "stdout",
          "text": [
            "y = 1676.03752 * (x ^ 0.03656 ) +  \n"
          ]
        }
      ]
    },
    {
      "cell_type": "code",
      "metadata": {
        "id": "qlKCpjYkiYGX"
      },
      "source": [
        "a, b = popt"
      ],
      "execution_count": 34,
      "outputs": []
    },
    {
      "cell_type": "code",
      "metadata": {
        "colab": {
          "base_uri": "https://localhost:8080/",
          "height": 610
        },
        "id": "65R7Oojni6gA",
        "outputId": "db9e7dc3-19f5-48c2-c632-bd391df9bd6d"
      },
      "source": [
        "def func(x, a, b, c):\n",
        "  return a * (x**2) + b*x +c\n",
        "\n",
        "popt, _ = curve_fit(func, x, y )\n",
        "a, b, c = popt\n",
        "print('y = %.5f * (x ^ %.5f ) + %.5f '%(a, b, c))\n",
        "# define a sequence of inputs between the smallest and largest known inputs\n",
        "x_line = np.arange(min(x), max(x), 1)\n",
        "# calculate the output for the range\n",
        "y_line = func(x_line, a, b, c)\n",
        "# create a line plot for the mapping function\n",
        "plt.figure(figsize=(15,10))\n",
        "plt.scatter(x, y)\n",
        "plt.plot(x_line, y_line, '--', color='red')\n",
        "plt.show()"
      ],
      "execution_count": 35,
      "outputs": [
        {
          "output_type": "stream",
          "name": "stdout",
          "text": [
            "y = -0.19970 * (x ^ 61.44766 ) + -4065.17059 \n"
          ]
        },
        {
          "output_type": "display_data",
          "data": {
            "text/plain": [
              "<Figure size 1080x720 with 1 Axes>"
            ],
            "image/png": "[encoded data removed]"
          },
          "metadata": {
            "needs_background": "light"
          }
        }
      ]
    },
    {
      "cell_type": "code",
      "source": [
        "from scipy.optimize import leastsq\n",
        "from scipy.optimize import curve_fit\n",
        "from scipy.optimize import least_squares\n"
      ],
      "metadata": {
        "id": "NCsi3yPpj6aa"
      },
      "execution_count": 36,
      "outputs": []
    },
    {
      "cell_type": "code",
      "source": [
        ""
      ],
      "metadata": {
        "id": "asdZIFtXnKw_"
      },
      "execution_count": null,
      "outputs": []
    },
    {
      "cell_type": "markdown",
      "source": [
        "# Scipy curve fit\n"
      ],
      "metadata": {
        "id": "N7fHO8Cq8117"
      }
    },
    {
      "cell_type": "code",
      "source": [
        "import numpy as np\n",
        "import matplotlib.pyplot as plt\n",
        "import scipy\n",
        "from scipy import optimize\n",
        "\n",
        "\n",
        "\n",
        "def function(x, a, b):\n",
        "    return a*np.exp(b*x)\n",
        "\n",
        "x = np.linspace(10, 30, 40)\n",
        "\n",
        "y = function(x, 0.5, 0.3)\n",
        "#print(y)\n",
        "\n",
        "noise = 100*np.random.normal(size=y.size)\n",
        "y = y + noise\n",
        "#print(y)\n",
        "popt,cov = scipy.optimize.curve_fit(function, x, y)\n",
        "\n",
        "a,b = popt\n",
        "\n",
        "x_new_value = np.arange(min(x), max(x), 1)\n",
        "y_new_value = function(x_new_value, a, b)\n",
        "\n",
        "plt.scatter(x,y,color=\"green\")\n",
        "plt.plot(x_new_value,y_new_value,color=\"red\")\n",
        "plt.xlabel('X')\n",
        "plt.ylabel('Y')\n",
        "print(\"Estimated value of a : \"+ str(a))\n",
        "print(\"Estimated value of b : \" + str(b))\n",
        "plt.show()"
      ],
      "metadata": {
        "colab": {
          "base_uri": "https://localhost:8080/",
          "height": 317
        },
        "id": "N992ciuoVLtL",
        "outputId": "5195a6c7-e4da-420b-b380-a193324c73ed"
      },
      "execution_count": 38,
      "outputs": [
        {
          "output_type": "stream",
          "name": "stdout",
          "text": [
            "Estimated value of a : 0.6967505675114125\n",
            "Estimated value of b : 0.2876500941966184\n"
          ]
        },
        {
          "output_type": "display_data",
          "data": {
            "text/plain": [
              "<Figure size 432x288 with 1 Axes>"
            ],
            "image/png": "[encoded data removed]"
          },
          "metadata": {
            "needs_background": "light"
          }
        }
      ]
    },
    {
      "cell_type": "code",
      "source": [
        "import numpy as np\n",
        "import matplotlib.pyplot as plt\n",
        "import scipy\n",
        "from scipy import optimize\n",
        "\n",
        "def function(x, a, b, c):\n",
        "    return a*(x**b)+c\n",
        "\n",
        "x = xdata\n",
        "\n",
        "y = ydata\n",
        "#print(y)\n",
        "\n",
        "#noise = 100*np.random.normal(size=y.size)\n",
        "#y = y + noise\n",
        "#print(y)\n",
        "popt,cov = scipy.optimize.curve_fit(function, x, y)\n",
        "\n",
        "a, b, c = popt\n",
        "\n",
        "x_new_value = np.arange(min(x), max(x), 1)\n",
        "y_new_value = function(x_new_value, a, b, c)\n",
        "\n",
        "plt.scatter(x,y,color=\"green\")\n",
        "plt.plot(x_new_value,y_new_value,color=\"red\")\n",
        "plt.xlabel('X')\n",
        "plt.ylabel('Y')\n",
        "print(\"Estimated value of a : \"+ str(a))\n",
        "print(\"Estimated value of b : \" + str(b))\n",
        "print(\"Estimated value of c : \" + str(c))\n",
        "plt.show()"
      ],
      "metadata": {
        "colab": {
          "base_uri": "https://localhost:8080/",
          "height": 334
        },
        "id": "yBkZu59QXDPW",
        "outputId": "3b84b0b8-2892-4b4d-e19d-8c3470432beb"
      },
      "execution_count": 39,
      "outputs": [
        {
          "output_type": "stream",
          "name": "stdout",
          "text": [
            "Estimated value of a : 0.49999299334383734\n",
            "Estimated value of b : 0.49329688160397533\n",
            "Estimated value of c : 1.8840281504017307\n"
          ]
        },
        {
          "output_type": "display_data",
          "data": {
            "text/plain": [
              "<Figure size 432x288 with 1 Axes>"
            ],
            "image/png": "[encoded data removed]"
          },
          "metadata": {
            "needs_background": "light"
          }
        }
      ]
    },
    {
      "cell_type": "code",
      "source": [
        "!sudo apt install cm-super dvipng texlive-latex-extra texlive-latex-recommended\n",
        "!sudo apt-get install  texlive-fonts-recommended \n",
        "!sudo apt-get install texlive-science\n",
        "!pip install mpltex"
      ],
      "metadata": {
        "id": "vbcI9FilyNSF"
      },
      "execution_count": null,
      "outputs": []
    },
    {
      "cell_type": "markdown",
      "source": [
        "# Func1 plot\n",
        "\n",
        "\n"
      ],
      "metadata": {
        "id": "0CdcJphzULP1"
      }
    },
    {
      "cell_type": "code",
      "source": [
        "import mpltex\n",
        "@mpltex.acs_decorator\n",
        "def my_plot(x,y,w,z):\n",
        "    fig, ax = plt.subplots(1)\n",
        "    linestyles = mpltex.linestyle_generator(lines=[' ', '-'],\n",
        "                                            markers=['^', ' '],\n",
        "                                            hollow_styles=[],)\n",
        "    ax.plot(x, y, label='$data$', **next(linestyles)) # data\n",
        "    ax.plot(w, z, label='$f_{1}(x) = a x^b+c x^d$', **next(linestyles)) # fit\n",
        "    \n",
        "    plt.figure(figsize=(20,15))\n",
        "    ax.set_xlabel('$g_{YM}$')\n",
        "    ax.set_ylabel('$E^{0}/N^{2}$')\n",
        "    ax.legend(loc='best', ncol=2)\n",
        "    fig.tight_layout(pad=0.1)\n",
        "    fig.savefig('spectrum1')\n",
        "  \n",
        "my_plot(xdata, ydata, x_new_value1[4:] , y_new_value1)\n",
        "plt.close('all')"
      ],
      "metadata": {
        "id": "5s5g-JtV1Q9L"
      },
      "execution_count": null,
      "outputs": []
    },
    {
      "cell_type": "markdown",
      "source": [
        "# Func2 plot"
      ],
      "metadata": {
        "id": "0vwNTb6rVl5E"
      }
    },
    {
      "cell_type": "code",
      "source": [
        "import mpltex\n",
        "@mpltex.acs_decorator\n",
        "def my_plot(x,y,w,z):\n",
        "    fig, ax = plt.subplots(1)\n",
        "    linestyles = mpltex.linestyle_generator(lines=[' ', '-'],\n",
        "                                            markers=['^', ' '],\n",
        "                                            hollow_styles=[],)\n",
        "    ax.plot(x, y, label='$data$', **next(linestyles)) # data\n",
        "    ax.plot(w, z, label='$f_{2}(x) = a x^b+c$', **next(linestyles)) # fit\n",
        "    \n",
        "    plt.figure(figsize=(20,15))\n",
        "    ax.set_xlabel('$g_{YM}$')\n",
        "    ax.set_ylabel('$E^{0}/N^{2}$')\n",
        "    ax.legend(loc='best', ncol=2)\n",
        "    fig.tight_layout(pad=0.1)\n",
        "    fig.savefig('spectrum2')\n",
        "\n",
        "my_plot(xdata, ydata, x_new_value2[4:] , y_new_value2)\n",
        "plt.close('all')"
      ],
      "metadata": {
        "id": "tEXsCtnPVg5-"
      },
      "execution_count": null,
      "outputs": []
    },
    {
      "cell_type": "code",
      "source": [
        "xdata[8]"
      ],
      "metadata": {
        "id": "rMFXMXC9mKWT"
      },
      "execution_count": null,
      "outputs": []
    },
    {
      "cell_type": "markdown",
      "source": [
        "# Func3 plot"
      ],
      "metadata": {
        "id": "hdcmO2L7XmUl"
      }
    },
    {
      "cell_type": "code",
      "source": [
        "import mpltex\n",
        "@mpltex.acs_decorator\n",
        "def my_plot(x,y,w,z):\n",
        "    fig, ax = plt.subplots(1)\n",
        "    linestyles = mpltex.linestyle_generator(lines=[' ', '-'],\n",
        "                                            markers=['^', ' '],\n",
        "                                            hollow_styles=[],)\n",
        "    ax.plot(x, y, label='$data$', **next(linestyles)) # data\n",
        "    ax.plot(w, z, label='$f_{3}(x) = a x^b$', **next(linestyles)) # fit\n",
        "    \n",
        "    plt.figure(figsize=(20,15))\n",
        "    ax.set_xlabel('$g^2$')\n",
        "    ax.set_ylabel('$E^{0}/N^{2}$')\n",
        "    ax.legend(loc='best', ncol=2)\n",
        "    fig.tight_layout(pad=0.1)\n",
        "    fig.savefig('spectrum3')\n",
        "    \n",
        "\n",
        "my_plot(xdata, ydata, x_new_value3 , y_new_value3)\n",
        "plt.close('all')"
      ],
      "metadata": {
        "id": "fTYXZ3DiWMOx"
      },
      "execution_count": null,
      "outputs": []
    },
    {
      "cell_type": "markdown",
      "source": [
        "# ϵ_1 and ϵ_2 Plots"
      ],
      "metadata": {
        "id": "4eYRhaordXSb"
      }
    },
    {
      "cell_type": "code",
      "source": [
        "g_YM = np.arange(0, 16, 1, dtype=float)\n",
        "\n",
        "epsilon_1 = np.array(\n",
        "    [1.9995E+00,\n",
        "     1.9924E+00,\n",
        "     1.9695E+00,\n",
        "     1.9379E+00,\n",
        "     1.8975E+00,\n",
        "     1.8501E+00,\n",
        "     1.7804E+00,\n",
        "     1.7059E+00,\n",
        "     1.6311E+00,\n",
        "     1.5638E+00,\n",
        "     1.4934E+00,\n",
        "     1.4194E+00,\n",
        "     1.3406E+00,\n",
        "     1.2558E+00,\n",
        "     1.1637E+00]\n",
        ")\n",
        "\n",
        "epsilon_2 = np.array(\n",
        "    [1.9995E+00,\n",
        "     1.9929E+00,\n",
        "     1.9709E+00,\n",
        "     1.9399E+00,\n",
        "     1.9000E+00,\n",
        "     1.8527E+00,\n",
        "     1.7827E+00,\n",
        "     1.7078E+00,\n",
        "     1.6337E+00,\n",
        "     1.5665E+00,\n",
        "     1.4970E+00,\n",
        "     1.4238E+00,\n",
        "     1.3460E+00,\n",
        "     1.2624E+00,\n",
        "     1.1719E+00]\n",
        ")"
      ],
      "metadata": {
        "id": "Y0MNBLa0Ya9O"
      },
      "execution_count": 42,
      "outputs": []
    },
    {
      "cell_type": "code",
      "source": [
        "import sys\n",
        "import numpy as np\n",
        "import matplotlib.pyplot as plt\n",
        "import scipy\n",
        "from scipy import optimize\n",
        "\n",
        "def func4(x, a, b):\n",
        "    return a*x**(-4/3)+b*x**(4/3)\n",
        "\n",
        "x = g_YM[1:]\n",
        "\n",
        "y = epsilon_1\n",
        "\n",
        "\n",
        "x1 = g_YM[9:]\n",
        "y1 = E_06[9:]\n",
        "\n",
        "\n",
        "#noise = 100*np.random.normal(size=y.size)\n",
        "#y = y + noise\n",
        "#print(y)\n",
        "popt,cov = scipy.optimize.curve_fit(func4, x1, y1)\n",
        "\n",
        "a, b= popt\n",
        "\n",
        "x_new_value4 = np.arange(min(x), max(x), 1)\n",
        "y_new_value4 = func4(x_new_value4, a, b)\n",
        "\n",
        "plt.figure(figsize=(10,7))\n",
        "plt.scatter(x,y,color=\"blue\")\n",
        "plt.plot(x_new_value4, y_new_value4, color=\"red\")\n",
        "plt.xlabel('X')\n",
        "plt.ylabel('Y')\n",
        "print(\"Estimated value of a : \" + str(a))\n",
        "print(\"Estimated value of b : \" + str(b))\n",
        "#print(\"Estimated value of c : \" + str(c))\n",
        "#print(\"Estimated value of d : \" + str(d))\n",
        "\n",
        "plt.show() "
      ],
      "metadata": {
        "colab": {
          "base_uri": "https://localhost:8080/",
          "height": 478
        },
        "id": "D-EWURJieNrE",
        "outputId": "add22634-a0f4-48aa-da00-a207b04464ab"
      },
      "execution_count": 44,
      "outputs": [
        {
          "output_type": "stream",
          "name": "stdout",
          "text": [
            "Estimated value of a : 35.85981370012948\n",
            "Estimated value of b : 0.13002538277927725\n"
          ]
        },
        {
          "output_type": "display_data",
          "data": {
            "text/plain": [
              "<Figure size 720x504 with 1 Axes>"
            ],
            "image/png": "[encoded data removed]"
          },
          "metadata": {
            "needs_background": "light"
          }
        }
      ]
    },
    {
      "cell_type": "markdown",
      "source": [
        "# Spectrum from my results"
      ],
      "metadata": {
        "id": "YHwIf5d0asre"
      }
    },
    {
      "cell_type": "code",
      "source": [
        "# ground state for l=6\n",
        "E_06 = np.array(\n",
        "    [2.000000,\n",
        "     2.108956371,\n",
        "     2.342554754,\n",
        "     2.613769958,\n",
        "     2.893586412,\n",
        "     3.172360216,\n",
        "     3.446621364,\n",
        "     3.715159928,\n",
        "     3.977649548,\n",
        "     4.234189506,\n",
        "     4.485029509,\n",
        "     4.73047903,\n",
        "     4.970860652,\n",
        "     5.206488785,\n",
        "     5.437660459,\n",
        "     5.664651474]\n",
        ")\n",
        "\n",
        "E_08 =np.array(\n",
        "    [2.000000,\n",
        "     2.109077491,\n",
        "     2.343961096,\n",
        "     2.617795512,\n",
        "     2.900896511,\n",
        "     3.183181003,\n",
        "     3.460970949,\n",
        "     3.732930896,\n",
        "     3.998831627,\n",
        "     4.258626766,\n",
        "     4.512608515,\n",
        "     4.76107161,\n",
        "     5.004389791,\n",
        "     5.24285339,\n",
        "     5.47664403,\n",
        "     5.706424675]\n",
        ")\n",
        "\n",
        "g_YM = np.arange(0, 16, 1, dtype=float)"
      ],
      "metadata": {
        "id": "WObamdGog6YK"
      },
      "execution_count": 45,
      "outputs": []
    },
    {
      "cell_type": "code",
      "source": [
        "import numpy as np\n",
        "import matplotlib.pyplot as plt\n",
        "import scipy\n",
        "from scipy import optimize\n",
        "\n",
        "def func3(x, a, b):\n",
        "    return a*(x**b)\n",
        "\n",
        "x = g_YM\n",
        "y = E_06\n",
        "\n",
        "x1 = g_YM[9:]\n",
        "y1 = E_06[9:]\n",
        "#print(y)\n",
        "\n",
        "#noise = 100*np.random.normal(size=y.size)\n",
        "#y = y + noise\n",
        "#print(y)\n",
        "popt,cov = scipy.optimize.curve_fit(func3, x1, y1)\n",
        "\n",
        "a, b = popt\n",
        "\n",
        "x_new_value3 = np.arange(min(x), max(x)+1, 1)\n",
        "y_new_value3 = func3(x_new_value3, a, b)\n",
        "\n",
        "plt.figure(figsize=(10,7))\n",
        "plt.scatter(x,y,color=\"green\")\n",
        "plt.plot(x_new_value3,y_new_value3,color=\"red\")\n",
        "plt.xlabel('X')\n",
        "plt.ylabel('Y')\n",
        "print(\"Estimated value of a : \"+ str(a))\n",
        "print(\"Estimated value of b : \" + str(b))\n",
        "plt.show()"
      ],
      "metadata": {
        "colab": {
          "base_uri": "https://localhost:8080/",
          "height": 478
        },
        "id": "RHf6wgNabaH1",
        "outputId": "6bbada9c-0187-4be4-ee9e-c08044ade142"
      },
      "execution_count": 46,
      "outputs": [
        {
          "output_type": "stream",
          "name": "stdout",
          "text": [
            "Estimated value of a : 1.2029174649857253\n",
            "Estimated value of b : 0.5716013847877115\n"
          ]
        },
        {
          "output_type": "display_data",
          "data": {
            "text/plain": [
              "<Figure size 720x504 with 1 Axes>"
            ],
            "image/png": "[encoded data removed]"
          },
          "metadata": {
            "needs_background": "light"
          }
        }
      ]
    },
    {
      "cell_type": "markdown",
      "source": [
        "# This is the closet fit to Hartnoll"
      ],
      "metadata": {
        "id": "Vu3cT4VR-DFT"
      }
    },
    {
      "cell_type": "code",
      "source": [
        "import numpy as np\n",
        "import matplotlib.pyplot as plt\n",
        "import scipy\n",
        "from scipy import optimize\n",
        "\n",
        "def func3(x, a, b):\n",
        "    return a*(x**b)\n",
        "\n",
        "x = g_YM\n",
        "y = E_08\n",
        "\n",
        "x1 = g_YM[8:]\n",
        "y1 = E_08[8:]\n",
        "#print(y)\n",
        "\n",
        "#noise = 100*np.random.normal(size=y.size)\n",
        "#y = y + noise\n",
        "#print(y)\n",
        "popt,cov = scipy.optimize.curve_fit(func3, x1, y1,bounds=([1.2,0.5],[1.5,0.7]) )\n",
        "\n",
        "a, b = popt\n",
        "\n",
        "x_new_value3 = np.arange(min(x), max(x)+1, 1)\n",
        "y_new_value3 = func3(x_new_value3, a, b)\n",
        "\n",
        "plt.figure(figsize=(10,7))\n",
        "plt.scatter(x,y,color=\"green\")\n",
        "plt.plot(x_new_value3,y_new_value3,color=\"red\")\n",
        "plt.xlabel('X')\n",
        "plt.ylabel('Y')\n",
        "print(\"Estimated value of a : \"+ str(a))\n",
        "print(\"Estimated value of b : \" + str(b))\n",
        "plt.show()"
      ],
      "metadata": {
        "colab": {
          "base_uri": "https://localhost:8080/",
          "height": 478
        },
        "id": "FgZukO8y95cB",
        "outputId": "231af35d-14a7-421d-a3b3-a66a40b55022"
      },
      "execution_count": 47,
      "outputs": [
        {
          "output_type": "stream",
          "name": "stdout",
          "text": [
            "Estimated value of a : 1.2204244355884015\n",
            "Estimated value of b : 0.5686760784030446\n"
          ]
        },
        {
          "output_type": "display_data",
          "data": {
            "text/plain": [
              "<Figure size 720x504 with 1 Axes>"
            ],
            "image/png": "[encoded data removed]"
          },
          "metadata": {
            "needs_background": "light"
          }
        }
      ]
    },
    {
      "cell_type": "code",
      "source": [
        "import numpy as np\n",
        "import matplotlib.pyplot as plt\n",
        "import scipy\n",
        "from scipy import optimize\n",
        "\n",
        "def func3(x, a):\n",
        "    return 1.4*(x**a)\n",
        "\n",
        "x = g_YM\n",
        "y = E_08\n",
        "\n",
        "x1 = g_YM[8:]\n",
        "y1 = E_08[8:]\n",
        "#print(y)\n",
        "\n",
        "#noise = 100*np.random.normal(size=y.size)\n",
        "#y = y + noise\n",
        "#print(y)\n",
        "popt,cov = scipy.optimize.curve_fit(func3, x1, y1,bounds=([0.5],[0.7]) )\n",
        "\n",
        "a = popt\n",
        "\n",
        "x_new_value3 = np.arange(min(x), max(x)+1, 1)\n",
        "y_new_value3 = func3(x_new_value3, a)\n",
        "\n",
        "plt.figure(figsize=(10,7))\n",
        "plt.scatter(x,y,color=\"green\")\n",
        "plt.plot(x_new_value3,y_new_value3,color=\"red\")\n",
        "plt.xlabel('X')\n",
        "plt.ylabel('Y')\n",
        "print(\"Estimated value of a : \"+ str(a))\n",
        "#print(\"Estimated value of b : \" + str(b))\n",
        "plt.show()"
      ],
      "metadata": {
        "colab": {
          "base_uri": "https://localhost:8080/",
          "height": 460
        },
        "id": "nWEhZajrEC89",
        "outputId": "bbb08c87-597c-4c00-a57c-5a362cc05980"
      },
      "execution_count": 48,
      "outputs": [
        {
          "output_type": "stream",
          "name": "stdout",
          "text": [
            "Estimated value of a : [0.51333012]\n"
          ]
        },
        {
          "output_type": "display_data",
          "data": {
            "text/plain": [
              "<Figure size 720x504 with 1 Axes>"
            ],
            "image/png": "[encoded data removed]"
          },
          "metadata": {
            "needs_background": "light"
          }
        }
      ]
    },
    {
      "cell_type": "code",
      "source": [
        "import numpy as np\n",
        "import matplotlib.pyplot as plt\n",
        "import scipy\n",
        "from scipy import optimize\n",
        "\n",
        "def func3(x, a):\n",
        "    return a*(x**(2/3))\n",
        "\n",
        "x = g_YM\n",
        "y = E_08\n",
        "\n",
        "x1 = g_YM[8:]\n",
        "y1 = E_08[8:]\n",
        "#print(y)\n",
        "\n",
        "#noise = 100*np.random.normal(size=y.size)\n",
        "#y = y + noise\n",
        "#print(y)\n",
        "popt,cov = scipy.optimize.curve_fit(func3, x1, y1,bounds=([0.5],[1.5]) )\n",
        "\n",
        "a = popt\n",
        "\n",
        "x_new_value3 = np.arange(min(x), max(x)+1, 1)\n",
        "y_new_value3 = func3(x_new_value3, a)\n",
        "\n",
        "plt.figure(figsize=(10,7))\n",
        "plt.scatter(x,y,color=\"green\")\n",
        "plt.plot(x_new_value3,y_new_value3,color=\"red\")\n",
        "plt.xlabel('X')\n",
        "plt.ylabel('Y')\n",
        "print(\"Estimated value of a : \"+ str(a))\n",
        "#print(\"Estimated value of b : \" + str(b))\n",
        "plt.show()"
      ],
      "metadata": {
        "colab": {
          "base_uri": "https://localhost:8080/",
          "height": 460
        },
        "id": "_4y5dBD8IUFm",
        "outputId": "5feb1a8f-44cd-49e5-d7e8-63d137fd1805"
      },
      "execution_count": 49,
      "outputs": [
        {
          "output_type": "stream",
          "name": "stdout",
          "text": [
            "Estimated value of a : [0.95774982]\n"
          ]
        },
        {
          "output_type": "display_data",
          "data": {
            "text/plain": [
              "<Figure size 720x504 with 1 Axes>"
            ],
            "image/png": "[encoded data removed]"
          },
          "metadata": {
            "needs_background": "light"
          }
        }
      ]
    },
    {
      "cell_type": "markdown",
      "source": [
        "# **This might be it** (Best Plot)"
      ],
      "metadata": {
        "id": "bkenu7hGBbzw"
      }
    },
    {
      "cell_type": "code",
      "source": [
        "import numpy as np\n",
        "import matplotlib.pyplot as plt\n",
        "import scipy\n",
        "from scipy import optimize\n",
        "\n",
        "def func3(x, a, b):\n",
        "    return a*x**(2/3)+b*x**(-2/3)\n",
        "\n",
        "def g(x):\n",
        "  return 0.8913833944110198*x**(2/3)+1.7380083913785283*x**(-2/3)\n",
        "\n",
        "x = g_YM[1:]\n",
        "y = E_08[1:]\n",
        "\n",
        "x1 = g_YM[8:]\n",
        "y1 = E_08[8:]\n",
        "#print(y)\n",
        "\n",
        "#noise = 100*np.random.normal(size=y.size)\n",
        "#y = y + noise\n",
        "#print(y)\n",
        "popt,cov = scipy.optimize.curve_fit(func3, x1, y1, )\n",
        "\n",
        "a, b = popt\n",
        "\n",
        "x_new_value3 = np.arange(min(x), max(x)+1, 1)\n",
        "y_new_value3 = func3(x_new_value3, a, b)\n",
        "x_newnew = g(x_new_value3)\n",
        "\n",
        "plt.figure(figsize=(15,10))\n",
        "plt.scatter(x,y,color=\"green\")\n",
        "plt.plot(x_new_value3,y_new_value3,color=\"red\")\n",
        "plt.plot(x, x_newnew, color='blue', linestyle = 'dashed')\n",
        "plt.xlabel('X')\n",
        "plt.ylabel('Y')\n",
        "plt.grid(color = 'grey', linestyle = 'dotted', linewidth = 0.3)\n",
        "print(\"Estimated value of a : \"+ str(a))\n",
        "print(\"Estimated value of b : \" + str(b))\n",
        "plt.show()"
      ],
      "metadata": {
        "colab": {
          "base_uri": "https://localhost:8080/",
          "height": 643
        },
        "id": "B10cvAcwJRc2",
        "outputId": "dd6e2a21-0bea-4b96-b68b-244897b64028"
      },
      "execution_count": 50,
      "outputs": [
        {
          "output_type": "stream",
          "name": "stdout",
          "text": [
            "Estimated value of a : 0.8913833944110198\n",
            "Estimated value of b : 1.7380083913785283\n"
          ]
        },
        {
          "output_type": "display_data",
          "data": {
            "text/plain": [
              "<Figure size 1080x720 with 1 Axes>"
            ],
            "image/png": "[encoded data removed]"
          },
          "metadata": {
            "needs_background": "light"
          }
        }
      ]
    },
    {
      "cell_type": "code",
      "source": [
        "def g(x):\n",
        "  return 0.8913833944110198*x**(2/3)+1.7380083913785283*x**(-2/3)\n",
        "\n",
        "g(1)"
      ],
      "metadata": {
        "id": "OHj8bdGR_f-5"
      },
      "execution_count": null,
      "outputs": []
    },
    {
      "cell_type": "code",
      "source": [
        "x_ = np.arange(3000)\n",
        "plt.plot(x_, g(x_))"
      ],
      "metadata": {
        "id": "9b2wMBYhGnEe"
      },
      "execution_count": null,
      "outputs": []
    },
    {
      "cell_type": "code",
      "source": [
        "import numpy as np\n",
        "import matplotlib.pyplot as plt\n",
        "import scipy\n",
        "from scipy import optimize\n",
        "\n",
        "def func3(x, a, b,c):\n",
        "    return a*x**(2/3)+b*x**(-2/3)+ c*x**(-4/3)\n",
        "\n",
        "def g(x):\n",
        "  return 0.8913833944110198*x**(2/3)+1.7380083913785283*x**(-2/3)\n",
        "\n",
        "\n",
        "x = g_YM[1:]\n",
        "y = E_08[1:]\n",
        "\n",
        "x1 = g_YM[8:]\n",
        "y1 = E_08[8:]\n",
        "#print(y)\n",
        "\n",
        "#noise = 100*np.random.normal(size=y.size)\n",
        "#y = y + noise\n",
        "#print(y)\n",
        "popt,cov = scipy.optimize.curve_fit(func3, x1, y1, )\n",
        "\n",
        "a, b , c= popt\n",
        "\n",
        "x_new_value3 = np.arange(min(x), max(x)+1, 1)\n",
        "y_new_value3 = func3(x_new_value3, a, b, c)\n",
        "x_newnew = g(x_new_value3)\n",
        "\n",
        "plt.figure(figsize=(15,10))\n",
        "plt.scatter(x,y,color=\"green\")\n",
        "plt.plot(x_new_value3,y_new_value3,color=\"red\")\n",
        "plt.plot(x, x_newnew, color='blue', linestyle = 'dashed')\n",
        "plt.xlabel('X')\n",
        "plt.ylabel('Y')\n",
        "plt.grid(color = 'grey', linestyle = 'dotted', linewidth = 0.3)\n",
        "print(\"Estimated value of a : \"+ str(a))\n",
        "print(\"Estimated value of b : \" + str(b))\n",
        "print(\"Estimated value of c : \" + str(c))\n",
        "plt.show()"
      ],
      "metadata": {
        "colab": {
          "base_uri": "https://localhost:8080/",
          "height": 661
        },
        "id": "k4sreexjHE_u",
        "outputId": "c1b29926-3cd2-42ef-dc41-6cf9323219dd"
      },
      "execution_count": 51,
      "outputs": [
        {
          "output_type": "stream",
          "name": "stdout",
          "text": [
            "Estimated value of a : 0.8884812661300258\n",
            "Estimated value of b : 1.9542987920677584\n",
            "Estimated value of c : -0.698404490597742\n"
          ]
        },
        {
          "output_type": "display_data",
          "data": {
            "text/plain": [
              "<Figure size 1080x720 with 1 Axes>"
            ],
            "image/png": "[encoded data removed]"
          },
          "metadata": {
            "needs_background": "light"
          }
        }
      ]
    },
    {
      "cell_type": "code",
      "source": [
        "def h(x):\n",
        "  return 0.8884812661300258*x**(2/3)+1.9542987920677584*x**(-2/3) - 0.698404490597742*x**(-4/3)\n",
        "x_ = np.arange(3000)\n",
        "plt.plot(x_, h(x_))"
      ],
      "metadata": {
        "id": "kINKCqxQZ3nb"
      },
      "execution_count": null,
      "outputs": []
    },
    {
      "cell_type": "markdown",
      "source": [
        "# Growing Spectrum fit from my results(Done looks good)"
      ],
      "metadata": {
        "id": "CKQ9AX7VlobI"
      }
    },
    {
      "cell_type": "code",
      "source": [
        "epsilon_36 = np.array(\n",
        "    [4.2067E+00,\n",
        "     4.6111E+00,\n",
        "     5.0527E+00,\n",
        "     5.5007E+00,\n",
        "     5.9446E+00,\n",
        "     6.3815E+00,\n",
        "     6.8035E+00,\n",
        "     7.2196E+00,\n",
        "     7.5130E+00,\n",
        "     7.7930E+00,\n",
        "     8.0600E+00,\n",
        "     8.3233E+00,\n",
        "     8.5809E+00,\n",
        "     8.8330E+00,\n",
        "     9.0810E+00 ]\n",
        ")\n",
        "\n",
        "epsilon_46 = np.array(\n",
        "    [4.2067E+00,\n",
        "     4.6119E+00,\n",
        "     5.0535E+00,\n",
        "     5.5017E+00,\n",
        "     5.9454E+00,\n",
        "     6.3823E+00,\n",
        "     6.8063E+00,\n",
        "     7.2221E+00,\n",
        "     7.6312E+00,\n",
        "     8.0407E+00,\n",
        "     8.4435E+00,\n",
        "     8.8401E+00,\n",
        "     9.2303E+00,\n",
        "     9.6143E+00,\n",
        "     9.9924E+00]\n",
        ")\n",
        "\n",
        "epsilon_56 = np.array(\n",
        "    [4.5019E+00,\n",
        "     5.0906E+00,\n",
        "     5.5137E+00,\n",
        "     5.9434E+00,\n",
        "     6.2883E+00,\n",
        "     6.5759E+00,\n",
        "     7.1112E+00,\n",
        "     7.3044E+00,\n",
        "     7.6343E+00,\n",
        "     8.0442E+00,\n",
        "     8.4477E+00,\n",
        "     8.8446E+00,\n",
        "     9.2352E+00,\n",
        "     9.6196E+00,\n",
        "     9.9981E+00]\n",
        ")"
      ],
      "metadata": {
        "id": "_cKvonLnr3AT"
      },
      "execution_count": 90,
      "outputs": []
    },
    {
      "cell_type": "code",
      "source": [
        "epsilon_38 = np.array(\n",
        "    [4.2078E+00,\n",
        "     4.6242E+00,\n",
        "     5.0937E+00,\n",
        "     5.5751E+00,\n",
        "     6.0549E+00,\n",
        "     6.5295E+00,\n",
        "     6.9938E+00,\n",
        "     7.4520E+00,\n",
        "     7.8999E+00,\n",
        "     8.3399E+00,\n",
        "     8.7703E+00,\n",
        "     9.1924E+00,\n",
        "     9.6087E+00,\n",
        "     1.0011E+01,\n",
        "     1.0418E+01]\n",
        ")\n",
        "\n",
        "epsilon_48 = np.array(\n",
        "    [4.2080E+00,\n",
        "     4.6242E+00,\n",
        "     5.0937E+00,\n",
        "     5.5753E+00,\n",
        "     6.0556E+00,\n",
        "     6.5298E+00,\n",
        "     6.9946E+00,\n",
        "     7.4529E+00,\n",
        "     7.9006E+00,\n",
        "     8.3405E+00,\n",
        "     8.7714E+00,\n",
        "     9.1933E+00,\n",
        "     9.6094E+00,\n",
        "     1.0013E+01,\n",
        "     1.0419E+01]\n",
        ")\n",
        "\n",
        "epsilon_58 = np.array(\n",
        "    [4.5327E+00,\n",
        "     5.0772E+00,\n",
        "     5.5688E+00,\n",
        "     6.1573E+00,\n",
        "     6.7943E+00,\n",
        "     7.1861E+00,\n",
        "     8.0037E+00,\n",
        "     8.3936E+00,\n",
        "     8.9599E+00,\n",
        "     9.3389E+00,\n",
        "     9.8451E+00,\n",
        "     1.0363E+01,\n",
        "     1.0900E+01,\n",
        "     1.1237E+01,\n",
        "     1.1649E+01]\n",
        ")"
      ],
      "metadata": {
        "id": "I3xq29wfdF-B"
      },
      "execution_count": 88,
      "outputs": []
    },
    {
      "cell_type": "code",
      "source": [
        "import sys\n",
        "import numpy as np\n",
        "import matplotlib.pyplot as plt\n",
        "import scipy\n",
        "from scipy import optimize\n",
        "\n",
        "def func4(x, a, b):\n",
        "    return a*x**(-2/3)+b*x**(2/3)\n",
        "\n",
        "x = g_YM[1:]\n",
        "y = epsilon_38\n",
        "z = epsilon_48\n",
        "w = epsilon_58\n",
        "\n",
        "x1 = g_YM[8:]\n",
        "y1 = epsilon_38[7:]\n",
        "z1 = epsilon_48[7:]\n",
        "w1 = epsilon_58[7:]\n",
        "\n",
        "#noise = 100*np.random.normal(size=y.size)\n",
        "#y = y + noise\n",
        "#print(y)\n",
        "popt,cov = scipy.optimize.curve_fit(func4, x1, y1)\n",
        "\n",
        "a, b= popt\n",
        "\n",
        "x_new_value4 = np.arange(min(x), max(x)+1, 1)\n",
        "y_new_value4 = func4(x_new_value4, a, b)\n",
        "\n",
        "plt.figure(figsize=(10,7))\n",
        "plt.scatter(x, y, color=\"blue\", marker='v', label='e3')\n",
        "plt.scatter(x, z, color=\"purple\", marker='^',  label='e4')\n",
        "plt.scatter(x, w, color=\"pink\", marker='o', label='e5')\n",
        "plt.legend(loc='best', ncol=2)\n",
        "\n",
        "plt.plot(x_new_value4, y_new_value4, color=\"red\")\n",
        "plt.xlabel('g_YM')\n",
        "plt.ylabel('e')\n",
        "plt.title(\"l=8\")\n",
        "\n",
        "\n",
        "print(\"Estimated value of a : \" + str(a))\n",
        "print(\"Estimated value of b : \" + str(b))\n",
        "#print(\"Estimated value of c : \" + str(c))\n",
        "#print(\"Estimated value of d : \" + str(d))\n",
        "\n",
        "plt.show() "
      ],
      "metadata": {
        "colab": {
          "base_uri": "https://localhost:8080/",
          "height": 495
        },
        "id": "m61K-xqel2Lf",
        "outputId": "35249751-fd18-4b6f-8b48-760a2c8b26f1"
      },
      "execution_count": 89,
      "outputs": [
        {
          "output_type": "stream",
          "name": "stdout",
          "text": [
            "Estimated value of a : 4.263069032265195\n",
            "Estimated value of b : 1.5980353171058401\n"
          ]
        },
        {
          "output_type": "display_data",
          "data": {
            "text/plain": [
              "<Figure size 720x504 with 1 Axes>"
            ],
            "image/png": "[encoded data removed]"
          },
          "metadata": {
            "needs_background": "light"
          }
        }
      ]
    },
    {
      "cell_type": "code",
      "source": [
        "import sys\n",
        "import numpy as np\n",
        "import matplotlib.pyplot as plt\n",
        "import scipy\n",
        "from scipy import optimize\n",
        "\n",
        "def func4(x, a, b):\n",
        "    return a*x**(-2/3)+b*x**(2/3)\n",
        "\n",
        "x = g_YM[1:]\n",
        "y = epsilon_36\n",
        "z = epsilon_46\n",
        "w = epsilon_56\n",
        "\n",
        "x1 = g_YM[8:]\n",
        "y1 = epsilon_36[7:]\n",
        "z1 = epsilon_46[7:]\n",
        "w1 = epsilon_56[7:]\n",
        "\n",
        "#noise = 100*np.random.normal(size=y.size)\n",
        "#y = y + noise\n",
        "#print(y)\n",
        "popt,cov = scipy.optimize.curve_fit(func4, x1, z1)\n",
        "\n",
        "a, b= popt\n",
        "\n",
        "x_new_value4 = np.arange(min(x), max(x)+1, 1)\n",
        "y_new_value4 = func4(x_new_value4, a, b)\n",
        "\n",
        "plt.figure(figsize=(10,7))\n",
        "plt.scatter(x, y, color=\"blue\", marker='v', label='e3')\n",
        "plt.scatter(x, z, color=\"orange\", marker='^',  label='e4')\n",
        "plt.scatter(x, w, color=\"pink\", marker='o', label='e5')\n",
        "plt.legend(loc='best', ncol=2)\n",
        "\n",
        "plt.plot(x_new_value4, y_new_value4, color=\"red\")\n",
        "plt.xlabel('g_YM')\n",
        "plt.ylabel('e')\n",
        "plt.title(\"l=6\")\n",
        "\n",
        "\n",
        "print(\"Estimated value of a : \" + str(a))\n",
        "print(\"Estimated value of b : \" + str(b))\n",
        "#print(\"Estimated value of c : \" + str(c))\n",
        "#print(\"Estimated value of d : \" + str(d))\n",
        "\n",
        "plt.show() "
      ],
      "metadata": {
        "colab": {
          "base_uri": "https://localhost:8080/",
          "height": 495
        },
        "id": "1Ig-1wL20yjV",
        "outputId": "0188b0d6-1b98-4d3d-856d-83e12380e75c"
      },
      "execution_count": 119,
      "outputs": [
        {
          "output_type": "stream",
          "name": "stdout",
          "text": [
            "Estimated value of a : 4.580624269848591\n",
            "Estimated value of b : 1.5194719758949677\n"
          ]
        },
        {
          "output_type": "display_data",
          "data": {
            "text/plain": [
              "<Figure size 720x504 with 1 Axes>"
            ],
            "image/png": "[encoded data removed]"
          },
          "metadata": {
            "needs_background": "light"
          }
        }
      ]
    },
    {
      "cell_type": "markdown",
      "source": [
        "# Decaying states"
      ],
      "metadata": {
        "id": "1VKvkXzg5_Wu"
      }
    },
    {
      "cell_type": "code",
      "source": [
        "epsilon_16 = np.array(\n",
        "    [1.9995E+00,\n",
        "     1.9924E+00,\n",
        "     1.9695E+00,\n",
        "     1.9379E+00,\n",
        "     1.8975E+00,\n",
        "     1.8501E+00,\n",
        "     1.7804E+00,\n",
        "     1.7059E+00,\n",
        "     1.6311E+00,\n",
        "     1.5638E+00,\n",
        "     1.4934E+00,\n",
        "     1.4194E+00,\n",
        "     1.3406E+00,\n",
        "     1.2558E+00,\n",
        "     1.1637E+00]\n",
        ")\n",
        "\n",
        "epsilon_26 = np.array(\n",
        "    [1.9995E+00,\n",
        "     1.9929E+00,\n",
        "     1.9709E+00,\n",
        "     1.9399E+00,\n",
        "     1.9000E+00,\n",
        "     1.8527E+00,\n",
        "     1.7827E+00,\n",
        "     1.7078E+00,\n",
        "     1.6337E+00,\n",
        "     1.5665E+00,\n",
        "     1.4970E+00,\n",
        "     1.4238E+00,\n",
        "     1.3460E+00,\n",
        "     1.2624E+00,\n",
        "     1.1719E+00]\n",
        ")\n",
        "\n",
        "epsilon_18 = np.array(\n",
        "    [2.0000E+00,\n",
        "     1.9995E+00,\n",
        "     1.9980E+00,\n",
        "     1.9954E+00,\n",
        "     1.9919E+00,\n",
        "     1.9887E+00,\n",
        "     1.9805E+00,\n",
        "     1.9798E+00,\n",
        "     1.9722E+00,\n",
        "     1.9674E+00,\n",
        "     1.9596E+00,\n",
        "     1.9536E+00,\n",
        "     1.9471E+00,\n",
        "     1.9279E+00,\n",
        "     1.9334E+00]\n",
        ")\n",
        "\n",
        "epsilon_28 = np.array(\n",
        "    [2.0000E+00,\n",
        "     1.9995E+00,\n",
        "     1.9981E+00,\n",
        "     1.9957E+00,\n",
        "     1.9925E+00,\n",
        "     1.9890E+00,\n",
        "     1.9819E+00,\n",
        "     1.9805E+00,\n",
        "     1.9728E+00,\n",
        "     1.9701E+00,\n",
        "     1.9606E+00,\n",
        "     1.9558E+00,\n",
        "     1.9483E+00,\n",
        "     1.9315E+00,\n",
        "     1.9384E+00]\n",
        ")"
      ],
      "metadata": {
        "id": "JSCUIbfx06KQ"
      },
      "execution_count": 92,
      "outputs": []
    },
    {
      "cell_type": "code",
      "source": [
        "import sys\n",
        "import numpy as np\n",
        "import matplotlib.pyplot as plt\n",
        "import scipy\n",
        "from scipy import optimize\n",
        "\n",
        "def func4(x, a, b, c):\n",
        "    return a*x**(2/3)+b*(x**(-2/3))**c\n",
        "\n",
        "x = g_YM[1:]\n",
        "y = epsilon_16\n",
        "z = epsilon_26\n",
        "\n",
        "\n",
        "x1 = g_YM[7:]\n",
        "y1 = epsilon_16[6:]\n",
        "z1 = epsilon_26[6:]\n",
        "\n",
        "\n",
        "#noise = 100*np.random.normal(size=y.size)\n",
        "#y = y + noise\n",
        "#print(y)\n",
        "popt,cov = scipy.optimize.curve_fit(func4, x1, z1)\n",
        "\n",
        "a, b, c= popt\n",
        "\n",
        "x_new_value4 = np.arange(min(x), max(x)+1, 1)\n",
        "y_new_value4 = func4(x_new_value4, a, b, c)\n",
        "\n",
        "plt.figure(figsize=(10,7))\n",
        "plt.scatter(x, y, color=\"blue\", marker='v', label='e1')\n",
        "plt.scatter(x, z, color=\"purple\", marker='^',  label='e2')\n",
        "plt.legend(loc='best', ncol=2)\n",
        "\n",
        "plt.plot(x_new_value4, y_new_value4, color=\"red\")\n",
        "plt.xlabel('g_YM')\n",
        "plt.ylabel('e')\n",
        "plt.title(\"l=6\")\n",
        "\n",
        "\n",
        "print(\"Estimated value of a : \" + str(a))\n",
        "print(\"Estimated value of b : \" + str(b))\n",
        "print(\"Estimated value of c : \" + str(c))\n",
        "#print(\"Estimated value of d : \" + str(d))\n",
        "\n",
        "plt.show() "
      ],
      "metadata": {
        "colab": {
          "base_uri": "https://localhost:8080/",
          "height": 514
        },
        "id": "W0RT4AGe6P1j",
        "outputId": "d6e63f7e-7c60-4c8c-c7fd-bebccd936df9"
      },
      "execution_count": 117,
      "outputs": [
        {
          "output_type": "stream",
          "name": "stdout",
          "text": [
            "Estimated value of a : -0.6512919423648064\n",
            "Estimated value of b : 2.4214563591073004\n",
            "Estimated value of c : -0.41701470992193873\n"
          ]
        },
        {
          "output_type": "display_data",
          "data": {
            "text/plain": [
              "<Figure size 720x504 with 1 Axes>"
            ],
            "image/png": "[encoded data removed]"
          },
          "metadata": {
            "needs_background": "light"
          }
        }
      ]
    },
    {
      "cell_type": "code",
      "source": [
        "import sys\n",
        "import numpy as np\n",
        "import matplotlib.pyplot as plt\n",
        "import scipy\n",
        "from scipy import optimize\n",
        "\n",
        "def func4(x, a, b, c):\n",
        "    return a*x**(2/3)+b*x**(c*(-2/3))\n",
        "\n",
        "x = g_YM[1:]\n",
        "y = epsilon_18\n",
        "z = epsilon_28\n",
        "\n",
        "\n",
        "x1 = g_YM[7:]\n",
        "y1 = epsilon_18[6:]\n",
        "z1 = epsilon_28[6:]\n",
        "\n",
        "\n",
        "#noise = 100*np.random.normal(size=y.size)\n",
        "#y = y + noise\n",
        "#print(y)\n",
        "popt,cov = scipy.optimize.curve_fit(func4, x1, z1)\n",
        "\n",
        "a, b, c= popt\n",
        "\n",
        "x_new_value4 = np.arange(min(x), max(x)+1, 1)\n",
        "y_new_value4 = func4(x_new_value4, a, b, c)\n",
        "\n",
        "plt.figure(figsize=(10,7))\n",
        "plt.scatter(x, y, color=\"blue\", marker='v', label='e3')\n",
        "plt.scatter(x, z, color=\"purple\", marker='^',  label='e4')\n",
        "plt.legend(loc='best', ncol=2)\n",
        "\n",
        "plt.plot(x_new_value4, y_new_value4, color=\"red\")\n",
        "plt.xlabel('g_YM')\n",
        "plt.ylabel('e')\n",
        "plt.title(\"l=6\")\n",
        "\n",
        "\n",
        "print(\"Estimated value of a : \" + str(a))\n",
        "print(\"Estimated value of b : \" + str(b))\n",
        "print(\"Estimated value of c : \" + str(c))\n",
        "#print(\"Estimated value of d : \" + str(d))\n",
        "\n",
        "plt.show() "
      ],
      "metadata": {
        "colab": {
          "base_uri": "https://localhost:8080/",
          "height": 514
        },
        "id": "DAymOWGv8vK6",
        "outputId": "df354f00-5646-416f-b81e-f6d98f16cc00"
      },
      "execution_count": 113,
      "outputs": [
        {
          "output_type": "stream",
          "name": "stdout",
          "text": [
            "Estimated value of a : -0.05766945218747366\n",
            "Estimated value of b : 1.9821628979787682\n",
            "Estimated value of c : -0.07835172397447539\n"
          ]
        },
        {
          "output_type": "display_data",
          "data": {
            "text/plain": [
              "<Figure size 720x504 with 1 Axes>"
            ],
            "image/png": "[encoded data removed]"
          },
          "metadata": {
            "needs_background": "light"
          }
        }
      ]
    },
    {
      "cell_type": "code",
      "source": [
        ""
      ],
      "metadata": {
        "id": "7nFzIWc1_Avh"
      },
      "execution_count": null,
      "outputs": []
    }
  ]
}